{
 "cells": [
  {
   "cell_type": "code",
   "execution_count": null,
   "id": "f30cc8fd-42e9-437b-a1d6-94f7deb85426",
   "metadata": {},
   "outputs": [],
   "source": []
  },
  {
   "cell_type": "code",
   "execution_count": 1,
   "id": "7db859ca-edd5-4123-924e-bafbc173e6da",
   "metadata": {},
   "outputs": [],
   "source": [
    "# ---------------------------\n",
    "# 1️ Import required libraries\n",
    "# ---------------------------\n",
    "import pyodbc\n",
    "import pandas as pd\n",
    "import numpy as np\n",
    "import matplotlib.pyplot as plt\n",
    "import seaborn as sns\n",
    "from sklearn.linear_model import LinearRegression\n",
    "import random\n",
    "import os\n",
    "from sklearn.experimental import enable_iterative_imputer\n",
    "from sklearn.impute import IterativeImputer\n",
    "from sklearn.linear_model import BayesianRidge\n",
    "from IPython.display import display, HTML\n"
   ]
  },
  {
   "cell_type": "code",
   "execution_count": 2,
   "id": "67fb4280-105e-4072-869c-ca5e837ff035",
   "metadata": {},
   "outputs": [
    {
     "data": {
      "text/html": [
       "<p style='font-size:20px; font-weight:bold; color:green;'>📥 Dataset Loaded Successfully</p>"
      ],
      "text/plain": [
       "<IPython.core.display.HTML object>"
      ]
     },
     "metadata": {},
     "output_type": "display_data"
    },
    {
     "name": "stdout",
     "output_type": "stream",
     "text": [
      "🔢 Shape of dataset: 676 rows × 3 columns\n",
      "\n",
      "📋 Column Data Types:\n",
      "Date             object\n",
      "Vegetable        object\n",
      "SellingPrice    float64\n",
      "dtype: object\n",
      "\n",
      "\n",
      "🔍 Sample of the first 10 rows:\n",
      "        Date   Vegetable  SellingPrice\n",
      "0   1/1/2024   Artichoke         500.0\n",
      "1   1/8/2024   Artichoke         500.0\n",
      "2  1/15/2024   artichoke         500.0\n",
      "3  1/22/2024   Artichoke         500.0\n",
      "4  1/29/2024   Artichoke         500.0\n",
      "5   2/5/2024   Artichoke         500.0\n",
      "6  2/12/2024   Artichoke         500.0\n",
      "7  2/19/2024  Artichoke.         500.0\n",
      "8  26-2-2024   Artichoke         500.0\n",
      "9   3/4/2024   Artichoke           NaN\n",
      "\n",
      "\n",
      "❗ Missing Values Summary:\n",
      "Date             0\n",
      "Vegetable        0\n",
      "SellingPrice    13\n",
      "dtype: int64\n",
      "\n",
      "\n",
      "📊 Statistical Summary (Numeric Columns):\n",
      "       SellingPrice\n",
      "count    663.000000\n",
      "mean     109.268477\n",
      "std      175.589289\n",
      "min        4.000000\n",
      "25%       17.000000\n",
      "50%       30.000000\n",
      "75%       80.000000\n",
      "max     1300.000000\n",
      "\n",
      "\n",
      "🔠 Unique value counts (Categorical Columns):\n",
      "\n",
      "📌 Column: Date\n",
      "Date\n",
      "1/1/2024      13\n",
      "7/1/2024      13\n",
      "7/15/2024     13\n",
      "7/22/2024     13\n",
      "7/29/2024     13\n",
      "8/5/2024      13\n",
      "8/12/2024     13\n",
      "8/19/2024     13\n",
      "8/26/2024     13\n",
      "9/2/2024      13\n",
      "9/9/2024      13\n",
      "9/16/2024     13\n",
      "9/23/2024     13\n",
      "9/30/2024     13\n",
      "10/7/2024     13\n",
      "10/14/2024    13\n",
      "10/21/2024    13\n",
      "10/28/2024    13\n",
      "11/4/2024     13\n",
      "11/11/2024    13\n",
      "11/18/2024    13\n",
      "11/25/2024    13\n",
      "12/2/2024     13\n",
      "12/16/2024    13\n",
      "12/23/2024    13\n",
      "1/8/2024      13\n",
      "7/8/2024      13\n",
      "6/24/2024     13\n",
      "4/1/2024      13\n",
      "1/15/2024     13\n",
      "1/22/2024     13\n",
      "1/29/2024     13\n",
      "2/5/2024      13\n",
      "2/12/2024     13\n",
      "2/19/2024     13\n",
      "3/4/2024      13\n",
      "3/11/2024     13\n",
      "3/18/2024     13\n",
      "6/17/2024     13\n",
      "3/25/2024     13\n",
      "4/8/2024      13\n",
      "4/15/2024     13\n",
      "4/22/2024     13\n",
      "4/29/2024     13\n",
      "5/6/2024      13\n",
      "5/13/2024     13\n",
      "5/20/2024     13\n",
      "5/27/2024     13\n",
      "6/3/2024      13\n",
      "6/10/2024     13\n",
      "12/9/2024     12\n",
      "2/26/2024     12\n",
      "26-2-2024      1\n",
      "12.9.2025      1\n",
      "Name: count, dtype: int64\n",
      "\n",
      "📌 Column: Vegetable\n",
      "Vegetable\n",
      "Kale           52\n",
      "Leek           52\n",
      "Red cabbage    52\n",
      "Parsley        52\n",
      "Mint           52\n",
      "Lettuce        52\n",
      "Swiss chard    52\n",
      "Celery         52\n",
      "Cabbage        52\n",
      "Arugula        52\n",
      "Jute mallow    49\n",
      "Spinach        49\n",
      "Artichoke      44\n",
      "jute Mallow     3\n",
      "Artichoke       3\n",
      "Artichoke.      3\n",
      "Spinich         3\n",
      "artichoke       2\n",
      "Name: count, dtype: int64\n"
     ]
    }
   ],
   "source": [
    "\n",
    "# ---------------------------\n",
    "# 2 Discover DATASET\n",
    "# ---------------------------\n",
    "\n",
    "def load_and_explore_data(file_path):\n",
    "    \"\"\"\n",
    "    Load a CSV dataset, display basic information, preview the data, \n",
    "    and summarize missing values and data types.\n",
    "    \n",
    "    \"\"\"\n",
    "    # Load CSV file\n",
    "    df = pd.read_csv(file_path)\n",
    "\n",
    "    # Display heading\n",
    "    display(HTML(\"<p style='font-size:20px; font-weight:bold; color:green;'>📥 Dataset Loaded Successfully</p>\"))\n",
    "\n",
    "    # Display shape\n",
    "    print(f\"🔢 Shape of dataset: {df.shape[0]} rows × {df.shape[1]} columns\\n\")\n",
    "\n",
    "    # Display column names and data types\n",
    "    print(\"📋 Column Data Types:\")\n",
    "    print(df.dtypes)\n",
    "    print(\"\\n\")\n",
    "\n",
    "    # Display first 10 rows\n",
    "    print(\"🔍 Sample of the first 10 rows:\")\n",
    "    print(df.head(10))\n",
    "    print(\"\\n\")\n",
    "\n",
    "    # Display number of missing values per column\n",
    "    print(\"❗ Missing Values Summary:\")\n",
    "    print(df.isnull().sum())\n",
    "    print(\"\\n\")\n",
    "\n",
    "    # Display basic statistics\n",
    "    print(\"📊 Statistical Summary (Numeric Columns):\")\n",
    "    print(df.describe(include='number'))\n",
    "    print(\"\\n\")\n",
    "\n",
    "    # Display value counts for categorical columns\n",
    "    print(\"🔠 Unique value counts (Categorical Columns):\")\n",
    "    for col in df.select_dtypes(include='object').columns:\n",
    "        print(f\"\\n📌 Column: {col}\")\n",
    "        print(df[col].value_counts(dropna=False))\n",
    "\n",
    "    return df\n",
    "\n",
    "\n",
    "# ---------------------------\n",
    "# MAIN EXECUTION\n",
    "# ---------------------------\n",
    "\n",
    "# Specify file path\n",
    "file_path = r\"C:\\Users\\linke\\OneDrive - AL-Hussien bin Abdullah Technical University\\Desktop\\Current research\\Data Analytics portfolio\\raw_selling_price_data1_1.csv\"\n",
    "\n",
    "# Load and explore the dataset\n",
    "df = load_and_explore_data(file_path)\n"
   ]
  },
  {
   "cell_type": "code",
   "execution_count": 3,
   "id": "8662b914-9fa6-42b5-bf38-a50a3fae023a",
   "metadata": {},
   "outputs": [
    {
     "data": {
      "text/html": [
       "<p style='font-size:20px; font-weight:bold; color:green;'>\n",
       "😞 Vegetables (Before correction):"
      ],
      "text/plain": [
       "<IPython.core.display.HTML object>"
      ]
     },
     "metadata": {},
     "output_type": "display_data"
    },
    {
     "name": "stdout",
     "output_type": "stream",
     "text": [
      "['Artichoke' 'artichoke' 'Artichoke.' 'Artichoke ' 'Arugula' 'Cabbage'\n",
      " 'Celery' 'Jute mallow' 'jute Mallow' 'Kale' 'Leek' 'Lettuce' 'Mint'\n",
      " 'Parsley' 'Red cabbage' 'Spinach' 'Spinich' 'Swiss chard']\n"
     ]
    },
    {
     "data": {
      "text/html": [
       "<p style='font-size:20px; font-weight:bold; color:green;'>\n",
       "🚩 Unique Vegetables (after correction):"
      ],
      "text/plain": [
       "<IPython.core.display.HTML object>"
      ]
     },
     "metadata": {},
     "output_type": "display_data"
    },
    {
     "name": "stdout",
     "output_type": "stream",
     "text": [
      "['Artichoke' 'Arugula' 'Cabbage' 'Celery' 'Jute mallow' 'Kale' 'Leek'\n",
      " 'Lettuce' 'Mint' 'Parsley' 'Red cabbage' 'Spinach' 'Swiss chard']\n"
     ]
    },
    {
     "data": {
      "text/html": [
       "<p style='font-size:20px; font-weight:bold; color:green;'>\n",
       " 😞 Records with invalid or missing Date values:"
      ],
      "text/plain": [
       "<IPython.core.display.HTML object>"
      ]
     },
     "metadata": {},
     "output_type": "display_data"
    },
    {
     "name": "stdout",
     "output_type": "stream",
     "text": [
      "    Date  Vegetable  SellingPrice\n",
      "8    NaT  Artichoke         500.0\n",
      "101  NaT    Arugula          12.0\n",
      "\n",
      "\n"
     ]
    }
   ],
   "source": [
    "\n",
    "# -----------------------------------------------------\n",
    "# 3 Data Cleaning – Correction and Ensuring Consistency\n",
    "# -----------------------------------------------------\n",
    "\n",
    "def display_unique_vegetables(title: str, veg_list):\n",
    "    \"\"\"\n",
    "    Display a formatted HTML message and print the list of unique vegetable names.\n",
    "    \"\"\"\n",
    "    \n",
    "    display(HTML(f\"<p style='font-size:20px; font-weight:bold; color:green;'>\\n{title}\"))\n",
    "    print(veg_list)\n",
    "\n",
    "\n",
    "def correct_vegetable_names(df):\n",
    "    \"\"\"\n",
    "    Apply manual corrections to inconsistent or incorrect entries in the 'Vegetable' column.\n",
    "    \n",
    "    \"\"\"\n",
    "    # Dictionary mapping incorrect names to their corrected forms\n",
    "    corrections = {\n",
    "        'artichoke': 'Artichoke',\n",
    "        'Artichoke ': 'Artichoke',\n",
    "        'Artichoke.': 'Artichoke',\n",
    "        'Spinich': 'Spinach',\n",
    "        'Jute': 'Jute mallow',\n",
    "        'jute Mallow': 'Jute mallow'\n",
    "    }\n",
    "    \n",
    "    # Display unique values before correction\n",
    "    before = df['Vegetable'].unique()\n",
    "    display_unique_vegetables(\"😞 Vegetables (Before correction):\", before)\n",
    "    \n",
    "    # Apply corrections\n",
    "    df['Vegetable'] = df['Vegetable'].replace(corrections)\n",
    "    \n",
    "    # Display unique values after correction\n",
    "    after = df['Vegetable'].unique()\n",
    "    display_unique_vegetables(\"🚩 Unique Vegetables (after correction):\", after)\n",
    "    \n",
    "    return df\n",
    "\n",
    "\n",
    "def standardize_and_check_dates(df):\n",
    "    \"\"\"\n",
    "    Convert the 'Date' column to datetime format and identify any invalid or missing values.\n",
    "    \"\"\"\n",
    "    # Convert 'Date' column to datetime, coercing invalid formats to NaT\n",
    "    df[\"Date\"] = pd.to_datetime(df[\"Date\"], errors='coerce')\n",
    "    \n",
    "    # Identify and display records with invalid or missing dates\n",
    "    invalid_dates = df[df[\"Date\"].isna()]\n",
    "    display(HTML(\"<p style='font-size:20px; font-weight:bold; color:green;'>\\n 😞 Records with invalid or missing Date values:\"))\n",
    "    print(invalid_dates)\n",
    "    print(\"\\n\")\n",
    "    \n",
    "    return df\n",
    "\n",
    "\n",
    "# ---------------------------\n",
    "# MAIN EXECUTION\n",
    "# ---------------------------\n",
    "\n",
    "# Apply vegetable name corrections\n",
    "df = correct_vegetable_names(df)\n",
    "\n",
    "# Standardize date format and identify issues\n",
    "df = standardize_and_check_dates(df)\n"
   ]
  },
  {
   "cell_type": "code",
   "execution_count": 4,
   "id": "ed974d2e-d476-4841-ac57-5c7583b1a16e",
   "metadata": {},
   "outputs": [
    {
     "data": {
      "text/html": [
       "<p style='font-size:20px; font-weight:bold; color:green;'>\n",
       " ⚠️ Missing Values:\n"
      ],
      "text/plain": [
       "<IPython.core.display.HTML object>"
      ]
     },
     "metadata": {},
     "output_type": "display_data"
    },
    {
     "name": "stdout",
     "output_type": "stream",
     "text": [
      "Date             2\n",
      "Vegetable        0\n",
      "SellingPrice    13\n",
      "dtype: int64\n"
     ]
    },
    {
     "data": {
      "image/png": "[encoded data removed]",
      "text/plain": [
       "<Figure size 1200x600 with 1 Axes>"
      ]
     },
     "metadata": {},
     "output_type": "display_data"
    },
    {
     "data": {
      "text/html": [
       "<p style='font-size:20px; font-weight:bold; color:green;'>🔍 Possible Outliers for Artichoke</p>"
      ],
      "text/plain": [
       "<IPython.core.display.HTML object>"
      ]
     },
     "metadata": {},
     "output_type": "display_data"
    },
    {
     "name": "stdout",
     "output_type": "stream",
     "text": [
      "         Date  Vegetable  SellingPrice\n",
      "25 2024-06-24  Artichoke          17.0\n"
     ]
    },
    {
     "name": "stderr",
     "output_type": "stream",
     "text": [
      "C:\\Users\\linke\\anaconda3\\Lib\\site-packages\\seaborn\\_oldcore.py:1119: FutureWarning: use_inf_as_na option is deprecated and will be removed in a future version. Convert inf values to NaN before operating instead.\n",
      "  with pd.option_context('mode.use_inf_as_na', True):\n"
     ]
    },
    {
     "data": {
      "image/png": "[encoded data removed]",
      "text/plain": [
       "<Figure size 1200x600 with 1 Axes>"
      ]
     },
     "metadata": {},
     "output_type": "display_data"
    },
    {
     "data": {
      "text/html": [
       "<p style='font-size:20px; font-weight:bold; color:green;'>🔍 Possible Outliers for Cabbage</p>"
      ],
      "text/plain": [
       "<IPython.core.display.HTML object>"
      ]
     },
     "metadata": {},
     "output_type": "display_data"
    },
    {
     "name": "stdout",
     "output_type": "stream",
     "text": [
      "          Date Vegetable  SellingPrice\n",
      "115 2024-03-18   Cabbage         120.0\n"
     ]
    },
    {
     "name": "stderr",
     "output_type": "stream",
     "text": [
      "C:\\Users\\linke\\anaconda3\\Lib\\site-packages\\seaborn\\_oldcore.py:1119: FutureWarning: use_inf_as_na option is deprecated and will be removed in a future version. Convert inf values to NaN before operating instead.\n",
      "  with pd.option_context('mode.use_inf_as_na', True):\n"
     ]
    },
    {
     "data": {
      "image/png": "[encoded data removed]",
      "text/plain": [
       "<Figure size 1200x600 with 1 Axes>"
      ]
     },
     "metadata": {},
     "output_type": "display_data"
    },
    {
     "data": {
      "text/html": [
       "<p style='font-size:20px; font-weight:bold; color:green;'>🔍 Possible Outliers for Kale</p>"
      ],
      "text/plain": [
       "<IPython.core.display.HTML object>"
      ]
     },
     "metadata": {},
     "output_type": "display_data"
    },
    {
     "name": "stdout",
     "output_type": "stream",
     "text": [
      "          Date Vegetable  SellingPrice\n",
      "276 2024-04-22      Kale        1300.0\n",
      "290 2024-07-29      Kale          25.0\n",
      "310 2024-12-16      Kale         200.0\n"
     ]
    },
    {
     "name": "stderr",
     "output_type": "stream",
     "text": [
      "C:\\Users\\linke\\anaconda3\\Lib\\site-packages\\seaborn\\_oldcore.py:1119: FutureWarning: use_inf_as_na option is deprecated and will be removed in a future version. Convert inf values to NaN before operating instead.\n",
      "  with pd.option_context('mode.use_inf_as_na', True):\n"
     ]
    },
    {
     "data": {
      "image/png": "[encoded data removed]",
      "text/plain": [
       "<Figure size 1200x600 with 1 Axes>"
      ]
     },
     "metadata": {},
     "output_type": "display_data"
    },
    {
     "data": {
      "text/html": [
       "<p style='font-size:20px; font-weight:bold; color:green;'> ❗Outliers replaced with NaN for Artichoke (SellingPrice < 20):"
      ],
      "text/plain": [
       "<IPython.core.display.HTML object>"
      ]
     },
     "metadata": {},
     "output_type": "display_data"
    },
    {
     "name": "stdout",
     "output_type": "stream",
     "text": [
      "    Vegetable  SellingPrice\n",
      "25  Artichoke          17.0\n",
      "\n",
      "\n"
     ]
    },
    {
     "data": {
      "text/html": [
       "<p style='font-size:20px; font-weight:bold; color:green;'> ❗Outliers replaced with NaN for Cabbage (SellingPrice > 100):"
      ],
      "text/plain": [
       "<IPython.core.display.HTML object>"
      ]
     },
     "metadata": {},
     "output_type": "display_data"
    },
    {
     "name": "stdout",
     "output_type": "stream",
     "text": [
      "    Vegetable  SellingPrice\n",
      "115   Cabbage         120.0\n",
      "\n",
      "\n"
     ]
    },
    {
     "data": {
      "text/html": [
       "<p style='font-size:20px; font-weight:bold; color:green;'> ❗Outliers replaced with NaN for Kale (SellingPrice <400 or > 800):"
      ],
      "text/plain": [
       "<IPython.core.display.HTML object>"
      ]
     },
     "metadata": {},
     "output_type": "display_data"
    },
    {
     "name": "stdout",
     "output_type": "stream",
     "text": [
      "    Vegetable  SellingPrice\n",
      "276      Kale        1300.0\n",
      "290      Kale          25.0\n",
      "310      Kale         200.0\n",
      "\n",
      "\n"
     ]
    }
   ],
   "source": [
    "# ---------------------------\n",
    "# 4 Outlier Detection and Treatment\n",
    "# ---------------------------\n",
    "\n",
    "# Step 1: Check missing values\n",
    "display(HTML(\"<p style='font-size:20px; font-weight:bold; color:green;'>\\n ⚠️ Missing Values:\\n\"))\n",
    "print(df.isnull().sum())\n",
    "\n",
    "# Step 2: Plot SellingPrice column to spot outliers\n",
    "\n",
    "#Note: \n",
    "# 1- Boxplot outliers are a statistical warning, not a final verdict. Histograms complement boxplots but are not foolproof for outlier detection.\n",
    "\n",
    "# 2- Always prioritize domain context over automated statistical rules. As noted in Modern Statistics for Modern Biology (Holmes & Huber, 2019):\n",
    "\n",
    "#                  \"Outliers are not ‘bad data’ to be blindly removed; they are invitations to investigate further.\"\n",
    "\n",
    "plt.figure(figsize=(12,6))\n",
    "sns.boxplot(data=df, x='Vegetable', y='SellingPrice')\n",
    "plt.xticks(rotation=45)\n",
    "plt.title(\"Boxplot of Selling Price by Vegetable (Original Data)\")\n",
    "plt.show()\n",
    "\n",
    "# Step 3: Filter and inspect the \"outlier\" values: calculate Q1, Q3, and IQR\n",
    "\n",
    "def detect_and_display_outliers(df, vegetable):\n",
    "    \"\"\"\n",
    "    Detect and display outliers in 'SellingPrice' for a specific vegetable type using IQR method.\n",
    "    \"\"\"\n",
    "    veg_data = df[df['Vegetable'] == vegetable].dropna(subset=['SellingPrice'])\n",
    "    Q1 = veg_data['SellingPrice'].quantile(0.25)\n",
    "    Q3 = veg_data['SellingPrice'].quantile(0.75)\n",
    "    IQR = Q3 - Q1\n",
    "    outliers = veg_data[(veg_data['SellingPrice'] < (Q1 - 1.5 * IQR)) | (veg_data['SellingPrice'] > (Q3 + 1.5 * IQR))]\n",
    "\n",
    "    display(HTML(f\"<p style='font-size:20px; font-weight:bold; color:green;'>🔍 Possible Outliers for {vegetable}</p>\"))\n",
    "    print(outliers)\n",
    "\n",
    "def plot_log_histogram(df, vegetable):\n",
    "    \"\"\"\n",
    "    Plot a histogram of 'SellingPrice' in log scale for a specific vegetable type.\n",
    "    \"\"\"\n",
    "    plt.figure(figsize=(12, 6))\n",
    "    sns.histplot(data=df[df['Vegetable'] == vegetable], x='SellingPrice', log_scale=True)\n",
    "    plt.title(f\"Histogram of Selling Price (logscale_{vegetable})\")\n",
    "    plt.show()\n",
    "\n",
    "# 🥬 Run for each vegetable\n",
    "vegetables = ['Artichoke', 'Cabbage', 'Kale']\n",
    "for veg in vegetables:\n",
    "    detect_and_display_outliers(df, veg)\n",
    "    plot_log_histogram(df, veg)\n",
    "\n",
    "## Checking the boxplot and the histograms and taking into consideration the type of vegetable \n",
    "#and the fact that the price is generally having a skewed distribution, \n",
    "\n",
    "\n",
    "# Define the outlier condition mask_Artichoke\n",
    "outlier_mask = (df['Vegetable'] == 'Artichoke') & (df['SellingPrice'] <20)\n",
    "\n",
    "# Get the affected rows BEFORE replacement\n",
    "affected_rows = df[outlier_mask].copy()  # Use .copy() to avoid SettingWithCopyWarning\n",
    "\n",
    "# Replace outliers with NaN\n",
    "df.loc[outlier_mask, 'SellingPrice'] = np.nan\n",
    "\n",
    "# Display results\n",
    "if not affected_rows.empty:\n",
    "    display(HTML(\"<p style='font-size:20px; font-weight:bold; color:green;'> ❗Outliers replaced with NaN for Artichoke (SellingPrice < 20):\"))\n",
    "    print(affected_rows[['Vegetable', 'SellingPrice']])  # Show relevant columns\n",
    "    print(\"\\n\")\n",
    "else:\n",
    " display(HTML(\"<p style='font-size:20px; font-weight:bold; color:green;'>\\n 👍No Artichoke records with SellingPrice < 20 found.\"))\n",
    "\n",
    "# Define the outlier condition mask_Cabbage\n",
    "outlier_mask = (df['Vegetable'] == 'Cabbage') & (df['SellingPrice'] >100)\n",
    "\n",
    "# Get the affected rows BEFORE replacement\n",
    "affected_rows = df[outlier_mask].copy()  # Use .copy() to avoid SettingWithCopyWarning\n",
    "\n",
    "# Replace outliers with NaN\n",
    "df.loc[outlier_mask, 'SellingPrice'] = np.nan\n",
    "\n",
    "# Display results\n",
    "if not affected_rows.empty:\n",
    "    display(HTML(\"<p style='font-size:20px; font-weight:bold; color:green;'> ❗Outliers replaced with NaN for Cabbage (SellingPrice > 100):\"))\n",
    "    print(affected_rows[['Vegetable', 'SellingPrice']])  # Show relevant columns\n",
    "    print(\"\\n\")\n",
    "else:\n",
    " display(HTML(\"<p style='font-size:20px; font-weight:bold; color:green;'>\\n 👍No Cabbage records with SellingPrice > 100 found.\"))\n",
    "\n",
    "# Define the outlier condition mask_Kale\n",
    "outlier_mask = (df['Vegetable'] == 'Kale') & ((df['SellingPrice'] <400) | (df['SellingPrice'] >800))\n",
    "\n",
    "# Get the affected rows BEFORE replacement\n",
    "affected_rows = df[outlier_mask].copy()  # Use .copy() to avoid SettingWithCopyWarning\n",
    "\n",
    "# Replace outliers with NaN\n",
    "df.loc[outlier_mask, 'SellingPrice'] = np.nan\n",
    "\n",
    "# Display results\n",
    "if not affected_rows.empty:\n",
    "    display(HTML(\"<p style='font-size:20px; font-weight:bold; color:green;'> ❗Outliers replaced with NaN for Kale (SellingPrice <400 or > 800):\"))\n",
    "    print(affected_rows[['Vegetable', 'SellingPrice']])  # Show relevant columns\n",
    "    print(\"\\n\")\n",
    "else:\n",
    " display(HTML(\"<p style='font-size:20px; font-weight:bold; color:green;'>\\n 👍No Kale records with SellingPrice >= 140 found.\"))"
   ]
  },
  {
   "cell_type": "code",
   "execution_count": 5,
   "id": "aac98321-2a6b-44c6-87f4-863dc8aaa71f",
   "metadata": {},
   "outputs": [
    {
     "data": {
      "text/html": [
       "<p style='font-size:20px; font-weight:bold; color:green;'>🔍 Missing values before imputation:</p>"
      ],
      "text/plain": [
       "<IPython.core.display.HTML object>"
      ]
     },
     "metadata": {},
     "output_type": "display_data"
    },
    {
     "name": "stdout",
     "output_type": "stream",
     "text": [
      "Date             2\n",
      "Vegetable        0\n",
      "SellingPrice    18\n",
      "dtype: int64\n"
     ]
    },
    {
     "name": "stderr",
     "output_type": "stream",
     "text": [
      "C:\\Users\\linke\\AppData\\Local\\Temp\\ipykernel_23564\\182057608.py:13: FutureWarning: Series.fillna with 'method' is deprecated and will raise in a future version. Use obj.ffill() or obj.bfill() instead.\n",
      "  df[\"Date\"] = df[\"Date\"].fillna(method='ffill')\n",
      "C:\\Users\\linke\\AppData\\Local\\Temp\\ipykernel_23564\\182057608.py:14: FutureWarning: Series.fillna with 'method' is deprecated and will raise in a future version. Use obj.ffill() or obj.bfill() instead.\n",
      "  df[\"Date\"] = df[\"Date\"].fillna(method='bfill')\n"
     ]
    },
    {
     "data": {
      "text/html": [
       "<p style='font-size:20px; font-weight:bold; color:green;'>🔍 Missing values after date imputation:</p>"
      ],
      "text/plain": [
       "<IPython.core.display.HTML object>"
      ]
     },
     "metadata": {},
     "output_type": "display_data"
    },
    {
     "name": "stdout",
     "output_type": "stream",
     "text": [
      "Date             0\n",
      "Vegetable        0\n",
      "SellingPrice    18\n",
      "dtype: int64\n",
      "✅ Imputed missing SellingPrice for Artichoke (2 records)\n",
      "✅ Imputed missing SellingPrice for Arugula (1 records)\n",
      "✅ Imputed missing SellingPrice for Cabbage (2 records)\n",
      "✅ Imputed missing SellingPrice for Celery (2 records)\n",
      "✅ No missing values for Jute mallow. Skipping imputation.\n",
      "✅ Imputed missing SellingPrice for Kale (4 records)\n",
      "✅ Imputed missing SellingPrice for Leek (1 records)\n",
      "✅ Imputed missing SellingPrice for Lettuce (1 records)\n",
      "✅ Imputed missing SellingPrice for Mint (1 records)\n",
      "✅ Imputed missing SellingPrice for Parsley (3 records)\n",
      "✅ Imputed missing SellingPrice for Red cabbage (1 records)\n",
      "✅ No missing values for Spinach. Skipping imputation.\n",
      "✅ No missing values for Swiss chard. Skipping imputation.\n"
     ]
    },
    {
     "data": {
      "text/html": [
       "<p style='font-size:20px; font-weight:bold; color:green;'>😃 Imputed SellingPrice values AFTER imputation (as integers):</p>"
      ],
      "text/plain": [
       "<IPython.core.display.HTML object>"
      ]
     },
     "metadata": {},
     "output_type": "display_data"
    },
    {
     "data": {
      "text/html": [
       "<div>\n",
       "<style scoped>\n",
       "    .dataframe tbody tr th:only-of-type {\n",
       "        vertical-align: middle;\n",
       "    }\n",
       "\n",
       "    .dataframe tbody tr th {\n",
       "        vertical-align: top;\n",
       "    }\n",
       "\n",
       "    .dataframe thead th {\n",
       "        text-align: right;\n",
       "    }\n",
       "</style>\n",
       "<table border=\"1\" class=\"dataframe\">\n",
       "  <thead>\n",
       "    <tr style=\"text-align: right;\">\n",
       "      <th></th>\n",
       "      <th>Vegetable</th>\n",
       "      <th>Date</th>\n",
       "      <th>SellingPrice</th>\n",
       "    </tr>\n",
       "  </thead>\n",
       "  <tbody>\n",
       "    <tr>\n",
       "      <th>9</th>\n",
       "      <td>Artichoke</td>\n",
       "      <td>2024-03-04</td>\n",
       "      <td>384</td>\n",
       "    </tr>\n",
       "    <tr>\n",
       "      <th>25</th>\n",
       "      <td>Artichoke</td>\n",
       "      <td>2024-06-24</td>\n",
       "      <td>423</td>\n",
       "    </tr>\n",
       "    <tr>\n",
       "      <th>90</th>\n",
       "      <td>Arugula</td>\n",
       "      <td>2024-09-23</td>\n",
       "      <td>19</td>\n",
       "    </tr>\n",
       "    <tr>\n",
       "      <th>115</th>\n",
       "      <td>Cabbage</td>\n",
       "      <td>2024-03-18</td>\n",
       "      <td>18</td>\n",
       "    </tr>\n",
       "    <tr>\n",
       "      <th>141</th>\n",
       "      <td>Cabbage</td>\n",
       "      <td>2024-09-16</td>\n",
       "      <td>17</td>\n",
       "    </tr>\n",
       "    <tr>\n",
       "      <th>177</th>\n",
       "      <td>Celery</td>\n",
       "      <td>2024-05-27</td>\n",
       "      <td>137</td>\n",
       "    </tr>\n",
       "    <tr>\n",
       "      <th>202</th>\n",
       "      <td>Celery</td>\n",
       "      <td>2024-11-18</td>\n",
       "      <td>198</td>\n",
       "    </tr>\n",
       "    <tr>\n",
       "      <th>276</th>\n",
       "      <td>Kale</td>\n",
       "      <td>2024-04-22</td>\n",
       "      <td>537</td>\n",
       "    </tr>\n",
       "    <tr>\n",
       "      <th>281</th>\n",
       "      <td>Kale</td>\n",
       "      <td>2024-05-27</td>\n",
       "      <td>542</td>\n",
       "    </tr>\n",
       "    <tr>\n",
       "      <th>290</th>\n",
       "      <td>Kale</td>\n",
       "      <td>2024-07-29</td>\n",
       "      <td>549</td>\n",
       "    </tr>\n",
       "    <tr>\n",
       "      <th>310</th>\n",
       "      <td>Kale</td>\n",
       "      <td>2024-12-16</td>\n",
       "      <td>566</td>\n",
       "    </tr>\n",
       "    <tr>\n",
       "      <th>332</th>\n",
       "      <td>Leek</td>\n",
       "      <td>2024-05-20</td>\n",
       "      <td>77</td>\n",
       "    </tr>\n",
       "    <tr>\n",
       "      <th>371</th>\n",
       "      <td>Lettuce</td>\n",
       "      <td>2024-02-19</td>\n",
       "      <td>21</td>\n",
       "    </tr>\n",
       "    <tr>\n",
       "      <th>439</th>\n",
       "      <td>Mint</td>\n",
       "      <td>2024-06-10</td>\n",
       "      <td>22</td>\n",
       "    </tr>\n",
       "    <tr>\n",
       "      <th>479</th>\n",
       "      <td>Parsley</td>\n",
       "      <td>2024-03-18</td>\n",
       "      <td>19</td>\n",
       "    </tr>\n",
       "    <tr>\n",
       "      <th>510</th>\n",
       "      <td>Parsley</td>\n",
       "      <td>2024-10-21</td>\n",
       "      <td>26</td>\n",
       "    </tr>\n",
       "    <tr>\n",
       "      <th>514</th>\n",
       "      <td>Parsley</td>\n",
       "      <td>2024-11-18</td>\n",
       "      <td>27</td>\n",
       "    </tr>\n",
       "    <tr>\n",
       "      <th>546</th>\n",
       "      <td>Red cabbage</td>\n",
       "      <td>2024-07-01</td>\n",
       "      <td>39</td>\n",
       "    </tr>\n",
       "  </tbody>\n",
       "</table>\n",
       "</div>"
      ],
      "text/plain": [
       "       Vegetable       Date  SellingPrice\n",
       "9      Artichoke 2024-03-04           384\n",
       "25     Artichoke 2024-06-24           423\n",
       "90       Arugula 2024-09-23            19\n",
       "115      Cabbage 2024-03-18            18\n",
       "141      Cabbage 2024-09-16            17\n",
       "177       Celery 2024-05-27           137\n",
       "202       Celery 2024-11-18           198\n",
       "276         Kale 2024-04-22           537\n",
       "281         Kale 2024-05-27           542\n",
       "290         Kale 2024-07-29           549\n",
       "310         Kale 2024-12-16           566\n",
       "332         Leek 2024-05-20            77\n",
       "371      Lettuce 2024-02-19            21\n",
       "439         Mint 2024-06-10            22\n",
       "479      Parsley 2024-03-18            19\n",
       "510      Parsley 2024-10-21            26\n",
       "514      Parsley 2024-11-18            27\n",
       "546  Red cabbage 2024-07-01            39"
      ]
     },
     "metadata": {},
     "output_type": "display_data"
    },
    {
     "data": {
      "text/html": [
       "<p style='font-size:20px; font-weight:bold; color:green;'>🔍 After Iterative Imputation:</p>"
      ],
      "text/plain": [
       "<IPython.core.display.HTML object>"
      ]
     },
     "metadata": {},
     "output_type": "display_data"
    },
    {
     "name": "stdout",
     "output_type": "stream",
     "text": [
      "Date            0\n",
      "Vegetable       0\n",
      "SellingPrice    0\n",
      "dtype: int64\n"
     ]
    },
    {
     "data": {
      "image/png": "[encoded data removed]",
      "text/plain": [
       "<Figure size 1200x600 with 1 Axes>"
      ]
     },
     "metadata": {},
     "output_type": "display_data"
    },
    {
     "data": {
      "text/html": [
       "<p style='font-size:20px; font-weight:bold; color:green;'>✅ Cleaned data saved to:</p>"
      ],
      "text/plain": [
       "<IPython.core.display.HTML object>"
      ]
     },
     "metadata": {},
     "output_type": "display_data"
    },
    {
     "name": "stdout",
     "output_type": "stream",
     "text": [
      "C:\\Users\\linke\\OneDrive - AL-Hussien bin Abdullah Technical University\\Desktop\\Current research\\Data Analytics portfolio\\cleaned_selling_price_data.csv\n"
     ]
    }
   ],
   "source": [
    "# ---------------------------\n",
    "# 5 Handling Missing Data Through Imputation\n",
    "# ---------------------------\n",
    "\n",
    "def display_missing(df, title):\n",
    "    \"\"\"Display missing values summary with a title.\"\"\"\n",
    "    display(HTML(f\"<p style='font-size:20px; font-weight:bold; color:green;'>🔍 {title}</p>\"))\n",
    "    print(df.isnull().sum())\n",
    "\n",
    "def impute_date_column(df):\n",
    "    \"\"\"Impute missing dates using forward then backward fill.\"\"\"\n",
    "    df[\"Date\"] = pd.to_datetime(df[\"Date\"], errors='coerce')\n",
    "    df[\"Date\"] = df[\"Date\"].fillna(method='ffill')\n",
    "    df[\"Date\"] = df[\"Date\"].fillna(method='bfill')\n",
    "    return df\n",
    "\n",
    "def impute_selling_price(df):\n",
    "    \"\"\"\n",
    "    Impute missing 'SellingPrice' using IterativeImputer with BayesianRidge\n",
    "    for each vegetable. Returns imputed DataFrame and a summary of imputed rows.\n",
    "    \"\"\"\n",
    "    df['DayOfYear'] = df['Date'].dt.dayofyear\n",
    "    df_imputed = df.copy()\n",
    "    all_imputed_records = pd.DataFrame()\n",
    "\n",
    "    for veg in df['Vegetable'].unique():\n",
    "        veg_data = df_imputed[df_imputed['Vegetable'] == veg].copy()\n",
    "        missing_indices = veg_data[veg_data['SellingPrice'].isna()].index\n",
    "\n",
    "        if len(missing_indices) == 0:\n",
    "            print(f\"✅ No missing values for {veg}. Skipping imputation.\")\n",
    "            continue\n",
    "\n",
    "        X = veg_data[['SellingPrice', 'DayOfYear']]\n",
    "        imputer = IterativeImputer(estimator=BayesianRidge(), max_iter=10, random_state=0)\n",
    "        imputed_values = imputer.fit_transform(X)\n",
    "        imputed_values = imputed_values.round().astype(int)\n",
    "\n",
    "        veg_data['SellingPrice'] = imputed_values[:, 0]\n",
    "        df_imputed.loc[veg_data.index, 'SellingPrice'] = veg_data['SellingPrice']\n",
    "\n",
    "        imputed_records = veg_data.loc[missing_indices, ['Vegetable', 'Date', 'SellingPrice']]\n",
    "        all_imputed_records = pd.concat([all_imputed_records, imputed_records], axis=0)\n",
    "\n",
    "        print(f\"✅ Imputed missing SellingPrice for {veg} ({len(missing_indices)} records)\")\n",
    "\n",
    "    return df_imputed.drop('DayOfYear', axis=1), all_imputed_records\n",
    "\n",
    "def save_cleaned_data(df, output_path):\n",
    "    \"\"\"Save cleaned DataFrame to CSV and display confirmation.\"\"\"\n",
    "    df.to_csv(output_path, index=False)\n",
    "    display(HTML(\"<p style='font-size:20px; font-weight:bold; color:green;'>✅ Cleaned data saved to:</p>\"))\n",
    "    print(output_path)\n",
    "\n",
    "def plot_cleaned_data(df):\n",
    "    \"\"\"Visualize SellingPrice distribution by vegetable.\"\"\"\n",
    "    plt.figure(figsize=(12,6))\n",
    "    sns.boxplot(data=df, x='Vegetable', y='SellingPrice')\n",
    "    plt.xticks(rotation=45)\n",
    "    plt.title(\"Boxplot of Selling Price by Vegetable (Cleaned Data)\")\n",
    "    plt.show()\n",
    "\n",
    "\n",
    "# ---------------------------\n",
    "# MAIN WORKFLOW\n",
    "# ---------------------------\n",
    "\n",
    "# Step 1: Show missing before imputation\n",
    "display_missing(df, \"Missing values before imputation:\")\n",
    "\n",
    "# Step 2: Impute Date column\n",
    "df = impute_date_column(df)\n",
    "\n",
    "# Step 3: Show missing after date imputation\n",
    "display_missing(df, \"Missing values after date imputation:\")\n",
    "\n",
    "# Step 4: Impute SellingPrice\n",
    "df_imputed, all_imputed_records = impute_selling_price(df)\n",
    "\n",
    "# Step 5: Show imputed records\n",
    "display(HTML(\"<p style='font-size:20px; font-weight:bold; color:green;'>😃 Imputed SellingPrice values AFTER imputation (as integers):</p>\"))\n",
    "display(all_imputed_records)\n",
    "\n",
    "# Step 6: Show missing values after full imputation\n",
    "display_missing(df_imputed, \"After Iterative Imputation:\")\n",
    "\n",
    "# Step 7: Plot cleaned data\n",
    "plot_cleaned_data(df_imputed)\n",
    "\n",
    "# Step 8: Save cleaned data\n",
    "output_folder = r\"C:\\Users\\linke\\OneDrive - AL-Hussien bin Abdullah Technical University\\Desktop\\Current research\\Data Analytics portfolio\"\n",
    "cleaned_data_path = os.path.join(output_folder, \"cleaned_selling_price_data.csv\")\n",
    "save_cleaned_data(df_imputed, cleaned_data_path)\n"
   ]
  },
  {
   "cell_type": "code",
   "execution_count": 7,
   "id": "5cc38cb6-f430-4f1c-8d3f-69b6f8beb174",
   "metadata": {},
   "outputs": [
    {
     "name": "stderr",
     "output_type": "stream",
     "text": [
      "C:\\Users\\linke\\AppData\\Local\\Temp\\ipykernel_23564\\1723538004.py:20: UserWarning: pandas only supports SQLAlchemy connectable (engine/connection) or database string URI or sqlite3 DBAPI2 connection. Other DBAPI2 objects are not tested. Please consider using SQLAlchemy.\n",
      "  df = pd.read_sql_query(query, conn)\n"
     ]
    },
    {
     "data": {
      "text/html": [
       "<p style='font-size:20px; font-weight:bold; color:green;'>✅ Profitability per vegetable.csv saved to:</p>"
      ],
      "text/plain": [
       "<IPython.core.display.HTML object>"
      ]
     },
     "metadata": {},
     "output_type": "display_data"
    },
    {
     "name": "stdout",
     "output_type": "stream",
     "text": [
      "C:\\Users\\linke\\OneDrive - AL-Hussien bin Abdullah Technical University\\Desktop\\Current research\\Data Analytics portfolio\\Profitability per vegetable.csv\n",
      "\n",
      "\n"
     ]
    },
    {
     "data": {
      "text/html": [
       "<p style='font-size:20px; font-weight:bold; color:green;'>✅ Average selling price per vegetable.csv saved to:</p>"
      ],
      "text/plain": [
       "<IPython.core.display.HTML object>"
      ]
     },
     "metadata": {},
     "output_type": "display_data"
    },
    {
     "name": "stdout",
     "output_type": "stream",
     "text": [
      "C:\\Users\\linke\\OneDrive - AL-Hussien bin Abdullah Technical University\\Desktop\\Current research\\Data Analytics portfolio\\Average selling price per vegetable.csv\n",
      "\n",
      "\n"
     ]
    },
    {
     "data": {
      "text/html": [
       "<p style='font-size:20px; font-weight:bold; color:green;'>✅ Demand_vs_productivity_per_vegetable.csv saved to:</p>"
      ],
      "text/plain": [
       "<IPython.core.display.HTML object>"
      ]
     },
     "metadata": {},
     "output_type": "display_data"
    },
    {
     "name": "stdout",
     "output_type": "stream",
     "text": [
      "C:\\Users\\linke\\OneDrive - AL-Hussien bin Abdullah Technical University\\Desktop\\Current research\\Data Analytics portfolio\\Demand_vs_productivity_per_vegetable.csv\n",
      "\n",
      "\n"
     ]
    },
    {
     "data": {
      "text/html": [
       "<p style='font-size:20px; font-weight:bold; color:green;'>✅ Volume_and_Maturity.csv saved to:</p>"
      ],
      "text/plain": [
       "<IPython.core.display.HTML object>"
      ]
     },
     "metadata": {},
     "output_type": "display_data"
    },
    {
     "name": "stdout",
     "output_type": "stream",
     "text": [
      "C:\\Users\\linke\\OneDrive - AL-Hussien bin Abdullah Technical University\\Desktop\\Current research\\Data Analytics portfolio\\Volume_and_Maturity.csv\n",
      "\n",
      "\n"
     ]
    }
   ],
   "source": [
    "\n",
    "# ---------------------------\n",
    "# 6 Prepare and execute SQL queries in SQL Server Management Studio to support Power BI visualizations.\n",
    "# ---------------------------\n",
    "def run_query_and_export(query, output_filename, server=\"SALEEM\", database=\"V_mar_2024\"):\n",
    "    \"\"\"\n",
    "    Executes a SQL query and saves the result to a CSV file.\n",
    "\n",
    "    Parameters:\n",
    "        query (str): SQL query to execute.\n",
    "        output_filename (str): Name of the CSV file to save the results.\n",
    "        server (str): SQL Server name. Default is \"SALEEM\".\n",
    "        database (str): SQL Database name. Default is \"V_mar_2024\".\n",
    "    \"\"\"\n",
    "    try:\n",
    "        # Establish database connection\n",
    "        conn_str = f'DRIVER={{ODBC Driver 17 for SQL Server}};SERVER={server};DATABASE={database};Trusted_Connection=yes;'\n",
    "        conn = pyodbc.connect(conn_str)\n",
    "\n",
    "        # Execute query\n",
    "        df = pd.read_sql_query(query, conn)\n",
    "\n",
    "        # Close connection\n",
    "        conn.close()\n",
    "\n",
    "        # Output folder and full file path\n",
    "        output_folder = r\"C:\\Users\\linke\\OneDrive - AL-Hussien bin Abdullah Technical University\\Desktop\\Current research\\Data Analytics portfolio\"\n",
    "        data_path = os.path.join(output_folder, output_filename)\n",
    "\n",
    "        # Save DataFrame to CSV\n",
    "        df.to_csv(data_path, index=False)\n",
    "\n",
    "        # Display confirmation\n",
    "        display(HTML(f\"<p style='font-size:20px; font-weight:bold; color:green;'>✅ {output_filename} saved to:</p>\"))\n",
    "        print(data_path)\n",
    "        print(\"\\n\")\n",
    "\n",
    "        return df\n",
    "\n",
    "    except Exception as e:\n",
    "        print(\"❌ Error:\", e)\n",
    "        return pd.DataFrame()  # return empty DataFrame on failure\n",
    "\n",
    "\n",
    "# ---------------------------\n",
    "# Execute Multiple Queries\n",
    "# ---------------------------\n",
    "\n",
    "# 1. Profitability per vegetable\n",
    "query_profitability = \"\"\"\n",
    "SELECT \n",
    "    V.Vegetable_Name,\n",
    "    V.Productivity_per_m2,\n",
    "    V.Agricultural_Cost_per_kg,\n",
    "    V.Cultivation_Cost_per_kg,\n",
    "    (V.Productivity_per_m2 * AVG(S.SellingPrice)*10) AS Expected_Revenue_per_m2,\n",
    "    (V.Agricultural_Cost_per_kg + V.Cultivation_Cost_per_kg)*V.Productivity_per_m2 AS Total_Cost_per_m2,\n",
    "    ((V.Productivity_per_m2 * AVG(S.SellingPrice)*10) - (V.Agricultural_Cost_per_kg + V.Cultivation_Cost_per_kg)*V.Productivity_per_m2) AS Expected_Profit_per_m2\n",
    "FROM Vegetable_Info V\n",
    "LEFT JOIN Vegetable_Selling S ON V.V_ID = S.V_ID\n",
    "GROUP BY V.V_ID, V.Vegetable_Name, V.Productivity_per_m2, V.Agricultural_Cost_per_kg, V.Cultivation_Cost_per_kg;\n",
    "\"\"\"\n",
    "df_profitability = run_query_and_export(query_profitability, \"Profitability per vegetable.csv\")\n",
    "\n",
    "\n",
    "# 2. Average selling price per vegetable\n",
    "query_avg_price = \"\"\"\n",
    "SELECT \n",
    "    V.Vegetable_Name,\n",
    "    AVG(S.SellingPrice)*10 AS Avg_SellingPrice,\n",
    "    MIN(S.SellingPrice)*10 AS Min_SellingPrice,\n",
    "    MAX(S.SellingPrice)*10 AS Max_SellingPrice\n",
    "FROM Vegetable_Info V\n",
    "LEFT JOIN Vegetable_Selling S ON V.V_ID = S.V_ID\n",
    "GROUP BY V.V_ID, V.Vegetable_Name;\n",
    "\"\"\"\n",
    "df_avg_price = run_query_and_export(query_avg_price, \"Average selling price per vegetable.csv\")\n",
    "\n",
    "\n",
    "# 3. Demand vs productivity per vegetable\n",
    "query_demand_vs_productivity = \"\"\"\n",
    "SELECT \n",
    "    V.Vegetable_Name,\n",
    "    D.Demand_Quantity,\n",
    "    V.Productivity_per_m2\n",
    "FROM Vegetable_Info V\n",
    "LEFT JOIN Demand D ON V.V_ID = D.V_ID;\n",
    "\"\"\"\n",
    "df_demand_vs_productivity = run_query_and_export(query_demand_vs_productivity, \"Demand_vs_productivity_per_vegetable.csv\")\n",
    "\n",
    "# 4. Volume and Maturity\n",
    "query_volume_and_maturity=\"\"\"\n",
    "SELECT \n",
    "      Vegetable_Name,\n",
    "      GREATEST(V1, V2, V3, V4, V5, V6, V7, V8, V9, V10, V11, V12) AS Max_Volume, \n",
    "      Maturity_Days\n",
    "FROM Vegetable_Info as VegInfo\n",
    "LEFT JOIN Volume_12Weeks AS Vol ON VOL.V_ID = VegInfo.V_ID;\n",
    " \"\"\"\n",
    "df_volume_and_maturity = run_query_and_export(query_volume_and_maturity, \"Volume_and_Maturity.csv\")\n"
   ]
  },
  {
   "cell_type": "code",
   "execution_count": null,
   "id": "7fb607b8-22d2-4324-8045-c91abada732c",
   "metadata": {},
   "outputs": [],
   "source": []
  }
 ],
 "metadata": {
  "kernelspec": {
   "display_name": "Python 3 (ipykernel)",
   "language": "python",
   "name": "python3"
  },
  "language_info": {
   "codemirror_mode": {
    "name": "ipython",
    "version": 3
   },
   "file_extension": ".py",
   "mimetype": "text/x-python",
   "name": "python",
   "nbconvert_exporter": "python",
   "pygments_lexer": "ipython3",
   "version": "3.11.7"
  }
 },
 "nbformat": 4,
 "nbformat_minor": 5
}
